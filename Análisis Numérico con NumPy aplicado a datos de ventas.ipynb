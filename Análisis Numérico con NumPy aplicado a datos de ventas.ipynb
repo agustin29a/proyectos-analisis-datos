{
  "cells": [
    {
      "cell_type": "markdown",
      "id": "4c442ae4",
      "metadata": {
        "id": "4c442ae4"
      },
      "source": [
        "# 📊 Análisis Numérico con NumPy aplicado a datos de ventas\n",
        "\n",
        "En este notebook vamos a aplicar **conceptos fundamentales de NumPy** para explorar un conjunto de datos de ventas de productos en distintas tiendas.\n",
        "\n",
        "El objetivo es practicar la manipulación de arrays, operaciones vectorizadas, filtrado, estadísticas básicas y álgebra lineal, usando datos reales.\n",
        "\n",
        "---\n",
        "\n",
        "## 📁 Descripción del dataset (`market.csv`)\n",
        "\n",
        "Este conjunto de datos contiene información sobre productos, tiendas y ventas. A continuación se describen las variables principales:\n",
        "\n",
        "| Variable | Descripción |\n",
        "|----------|-------------|\n",
        "| `Item_Identifier` | ID del producto |\n",
        "| `Item_Weight` | Peso del producto |\n",
        "| `Item_Fat_Content` | Contenido de grasa del producto (Low Fat / Regular) |\n",
        "| `Item_Visibility` | Porcentaje de visibilidad del producto en el total del área de exhibición |\n",
        "| `Item_Type` | Categoría del producto (Dairy, Soft Drinks, etc.) |\n",
        "| `Item_MRP` | Precio de venta al público máximo |\n",
        "| `Outlet_Identifier` | ID de la tienda |\n",
        "| `Outlet_Establishment_Year` | Año de apertura de la tienda |\n",
        "| `Outlet_Size` | Tamaño de la tienda |\n",
        "| `Outlet_Location_Type` | Tipo de ciudad donde se ubica la tienda |\n",
        "| `Outlet_Type` | Tipo de tienda |\n",
        "| `Item_Outlet_Sales` | Ventas del producto en esa tienda |\n",
        "\n",
        "---\n"
      ]
    },
    {
      "cell_type": "code",
      "execution_count": 64,
      "id": "bf2e319c",
      "metadata": {
        "colab": {
          "base_uri": "https://localhost:8080/",
          "height": 313
        },
        "id": "bf2e319c",
        "outputId": "f342a468-d43e-4814-dd6e-3d3c89018620"
      },
      "outputs": [
        {
          "output_type": "execute_result",
          "data": {
            "text/plain": [
              "  Item_Identifier  Item_Weight Item_Fat_Content  Item_Visibility  \\\n",
              "0           FDA15         9.30          Low Fat         0.016047   \n",
              "1           DRC01         5.92          Regular         0.019278   \n",
              "2           FDN15        17.50          Low Fat         0.016760   \n",
              "3           FDX07        19.20          Regular         0.000000   \n",
              "4           NCD19         8.93          Low Fat         0.000000   \n",
              "\n",
              "               Item_Type  Item_MRP Outlet_Identifier  \\\n",
              "0                  Dairy  249.8092            OUT049   \n",
              "1            Soft Drinks   48.2692            OUT018   \n",
              "2                   Meat  141.6180            OUT049   \n",
              "3  Fruits and Vegetables  182.0950            OUT010   \n",
              "4              Household   53.8614            OUT013   \n",
              "\n",
              "   Outlet_Establishment_Year Outlet_Size Outlet_Location_Type  \\\n",
              "0                       1999      Medium               Tier 1   \n",
              "1                       2009      Medium               Tier 3   \n",
              "2                       1999      Medium               Tier 1   \n",
              "3                       1998         NaN               Tier 3   \n",
              "4                       1987        High               Tier 3   \n",
              "\n",
              "         Outlet_Type  Item_Outlet_Sales  \n",
              "0  Supermarket Type1          3735.1380  \n",
              "1  Supermarket Type2           443.4228  \n",
              "2  Supermarket Type1          2097.2700  \n",
              "3      Grocery Store           732.3800  \n",
              "4  Supermarket Type1           994.7052  "
            ],
            "text/html": [
              "\n",
              "  <div id=\"df-8ce944fe-43d7-4bdd-a812-c96a729753b4\" class=\"colab-df-container\">\n",
              "    <div>\n",
              "<style scoped>\n",
              "    .dataframe tbody tr th:only-of-type {\n",
              "        vertical-align: middle;\n",
              "    }\n",
              "\n",
              "    .dataframe tbody tr th {\n",
              "        vertical-align: top;\n",
              "    }\n",
              "\n",
              "    .dataframe thead th {\n",
              "        text-align: right;\n",
              "    }\n",
              "</style>\n",
              "<table border=\"1\" class=\"dataframe\">\n",
              "  <thead>\n",
              "    <tr style=\"text-align: right;\">\n",
              "      <th></th>\n",
              "      <th>Item_Identifier</th>\n",
              "      <th>Item_Weight</th>\n",
              "      <th>Item_Fat_Content</th>\n",
              "      <th>Item_Visibility</th>\n",
              "      <th>Item_Type</th>\n",
              "      <th>Item_MRP</th>\n",
              "      <th>Outlet_Identifier</th>\n",
              "      <th>Outlet_Establishment_Year</th>\n",
              "      <th>Outlet_Size</th>\n",
              "      <th>Outlet_Location_Type</th>\n",
              "      <th>Outlet_Type</th>\n",
              "      <th>Item_Outlet_Sales</th>\n",
              "    </tr>\n",
              "  </thead>\n",
              "  <tbody>\n",
              "    <tr>\n",
              "      <th>0</th>\n",
              "      <td>FDA15</td>\n",
              "      <td>9.30</td>\n",
              "      <td>Low Fat</td>\n",
              "      <td>0.016047</td>\n",
              "      <td>Dairy</td>\n",
              "      <td>249.8092</td>\n",
              "      <td>OUT049</td>\n",
              "      <td>1999</td>\n",
              "      <td>Medium</td>\n",
              "      <td>Tier 1</td>\n",
              "      <td>Supermarket Type1</td>\n",
              "      <td>3735.1380</td>\n",
              "    </tr>\n",
              "    <tr>\n",
              "      <th>1</th>\n",
              "      <td>DRC01</td>\n",
              "      <td>5.92</td>\n",
              "      <td>Regular</td>\n",
              "      <td>0.019278</td>\n",
              "      <td>Soft Drinks</td>\n",
              "      <td>48.2692</td>\n",
              "      <td>OUT018</td>\n",
              "      <td>2009</td>\n",
              "      <td>Medium</td>\n",
              "      <td>Tier 3</td>\n",
              "      <td>Supermarket Type2</td>\n",
              "      <td>443.4228</td>\n",
              "    </tr>\n",
              "    <tr>\n",
              "      <th>2</th>\n",
              "      <td>FDN15</td>\n",
              "      <td>17.50</td>\n",
              "      <td>Low Fat</td>\n",
              "      <td>0.016760</td>\n",
              "      <td>Meat</td>\n",
              "      <td>141.6180</td>\n",
              "      <td>OUT049</td>\n",
              "      <td>1999</td>\n",
              "      <td>Medium</td>\n",
              "      <td>Tier 1</td>\n",
              "      <td>Supermarket Type1</td>\n",
              "      <td>2097.2700</td>\n",
              "    </tr>\n",
              "    <tr>\n",
              "      <th>3</th>\n",
              "      <td>FDX07</td>\n",
              "      <td>19.20</td>\n",
              "      <td>Regular</td>\n",
              "      <td>0.000000</td>\n",
              "      <td>Fruits and Vegetables</td>\n",
              "      <td>182.0950</td>\n",
              "      <td>OUT010</td>\n",
              "      <td>1998</td>\n",
              "      <td>NaN</td>\n",
              "      <td>Tier 3</td>\n",
              "      <td>Grocery Store</td>\n",
              "      <td>732.3800</td>\n",
              "    </tr>\n",
              "    <tr>\n",
              "      <th>4</th>\n",
              "      <td>NCD19</td>\n",
              "      <td>8.93</td>\n",
              "      <td>Low Fat</td>\n",
              "      <td>0.000000</td>\n",
              "      <td>Household</td>\n",
              "      <td>53.8614</td>\n",
              "      <td>OUT013</td>\n",
              "      <td>1987</td>\n",
              "      <td>High</td>\n",
              "      <td>Tier 3</td>\n",
              "      <td>Supermarket Type1</td>\n",
              "      <td>994.7052</td>\n",
              "    </tr>\n",
              "  </tbody>\n",
              "</table>\n",
              "</div>\n",
              "    <div class=\"colab-df-buttons\">\n",
              "\n",
              "  <div class=\"colab-df-container\">\n",
              "    <button class=\"colab-df-convert\" onclick=\"convertToInteractive('df-8ce944fe-43d7-4bdd-a812-c96a729753b4')\"\n",
              "            title=\"Convert this dataframe to an interactive table.\"\n",
              "            style=\"display:none;\">\n",
              "\n",
              "  <svg xmlns=\"http://www.w3.org/2000/svg\" height=\"24px\" viewBox=\"0 -960 960 960\">\n",
              "    <path d=\"M120-120v-720h720v720H120Zm60-500h600v-160H180v160Zm220 220h160v-160H400v160Zm0 220h160v-160H400v160ZM180-400h160v-160H180v160Zm440 0h160v-160H620v160ZM180-180h160v-160H180v160Zm440 0h160v-160H620v160Z\"/>\n",
              "  </svg>\n",
              "    </button>\n",
              "\n",
              "  <style>\n",
              "    .colab-df-container {\n",
              "      display:flex;\n",
              "      gap: 12px;\n",
              "    }\n",
              "\n",
              "    .colab-df-convert {\n",
              "      background-color: #E8F0FE;\n",
              "      border: none;\n",
              "      border-radius: 50%;\n",
              "      cursor: pointer;\n",
              "      display: none;\n",
              "      fill: #1967D2;\n",
              "      height: 32px;\n",
              "      padding: 0 0 0 0;\n",
              "      width: 32px;\n",
              "    }\n",
              "\n",
              "    .colab-df-convert:hover {\n",
              "      background-color: #E2EBFA;\n",
              "      box-shadow: 0px 1px 2px rgba(60, 64, 67, 0.3), 0px 1px 3px 1px rgba(60, 64, 67, 0.15);\n",
              "      fill: #174EA6;\n",
              "    }\n",
              "\n",
              "    .colab-df-buttons div {\n",
              "      margin-bottom: 4px;\n",
              "    }\n",
              "\n",
              "    [theme=dark] .colab-df-convert {\n",
              "      background-color: #3B4455;\n",
              "      fill: #D2E3FC;\n",
              "    }\n",
              "\n",
              "    [theme=dark] .colab-df-convert:hover {\n",
              "      background-color: #434B5C;\n",
              "      box-shadow: 0px 1px 3px 1px rgba(0, 0, 0, 0.15);\n",
              "      filter: drop-shadow(0px 1px 2px rgba(0, 0, 0, 0.3));\n",
              "      fill: #FFFFFF;\n",
              "    }\n",
              "  </style>\n",
              "\n",
              "    <script>\n",
              "      const buttonEl =\n",
              "        document.querySelector('#df-8ce944fe-43d7-4bdd-a812-c96a729753b4 button.colab-df-convert');\n",
              "      buttonEl.style.display =\n",
              "        google.colab.kernel.accessAllowed ? 'block' : 'none';\n",
              "\n",
              "      async function convertToInteractive(key) {\n",
              "        const element = document.querySelector('#df-8ce944fe-43d7-4bdd-a812-c96a729753b4');\n",
              "        const dataTable =\n",
              "          await google.colab.kernel.invokeFunction('convertToInteractive',\n",
              "                                                    [key], {});\n",
              "        if (!dataTable) return;\n",
              "\n",
              "        const docLinkHtml = 'Like what you see? Visit the ' +\n",
              "          '<a target=\"_blank\" href=https://colab.research.google.com/notebooks/data_table.ipynb>data table notebook</a>'\n",
              "          + ' to learn more about interactive tables.';\n",
              "        element.innerHTML = '';\n",
              "        dataTable['output_type'] = 'display_data';\n",
              "        await google.colab.output.renderOutput(dataTable, element);\n",
              "        const docLink = document.createElement('div');\n",
              "        docLink.innerHTML = docLinkHtml;\n",
              "        element.appendChild(docLink);\n",
              "      }\n",
              "    </script>\n",
              "  </div>\n",
              "\n",
              "\n",
              "    <div id=\"df-668021bc-d08b-4e52-b8b1-9b3cb8dbe6d4\">\n",
              "      <button class=\"colab-df-quickchart\" onclick=\"quickchart('df-668021bc-d08b-4e52-b8b1-9b3cb8dbe6d4')\"\n",
              "                title=\"Suggest charts\"\n",
              "                style=\"display:none;\">\n",
              "\n",
              "<svg xmlns=\"http://www.w3.org/2000/svg\" height=\"24px\"viewBox=\"0 0 24 24\"\n",
              "     width=\"24px\">\n",
              "    <g>\n",
              "        <path d=\"M19 3H5c-1.1 0-2 .9-2 2v14c0 1.1.9 2 2 2h14c1.1 0 2-.9 2-2V5c0-1.1-.9-2-2-2zM9 17H7v-7h2v7zm4 0h-2V7h2v10zm4 0h-2v-4h2v4z\"/>\n",
              "    </g>\n",
              "</svg>\n",
              "      </button>\n",
              "\n",
              "<style>\n",
              "  .colab-df-quickchart {\n",
              "      --bg-color: #E8F0FE;\n",
              "      --fill-color: #1967D2;\n",
              "      --hover-bg-color: #E2EBFA;\n",
              "      --hover-fill-color: #174EA6;\n",
              "      --disabled-fill-color: #AAA;\n",
              "      --disabled-bg-color: #DDD;\n",
              "  }\n",
              "\n",
              "  [theme=dark] .colab-df-quickchart {\n",
              "      --bg-color: #3B4455;\n",
              "      --fill-color: #D2E3FC;\n",
              "      --hover-bg-color: #434B5C;\n",
              "      --hover-fill-color: #FFFFFF;\n",
              "      --disabled-bg-color: #3B4455;\n",
              "      --disabled-fill-color: #666;\n",
              "  }\n",
              "\n",
              "  .colab-df-quickchart {\n",
              "    background-color: var(--bg-color);\n",
              "    border: none;\n",
              "    border-radius: 50%;\n",
              "    cursor: pointer;\n",
              "    display: none;\n",
              "    fill: var(--fill-color);\n",
              "    height: 32px;\n",
              "    padding: 0;\n",
              "    width: 32px;\n",
              "  }\n",
              "\n",
              "  .colab-df-quickchart:hover {\n",
              "    background-color: var(--hover-bg-color);\n",
              "    box-shadow: 0 1px 2px rgba(60, 64, 67, 0.3), 0 1px 3px 1px rgba(60, 64, 67, 0.15);\n",
              "    fill: var(--button-hover-fill-color);\n",
              "  }\n",
              "\n",
              "  .colab-df-quickchart-complete:disabled,\n",
              "  .colab-df-quickchart-complete:disabled:hover {\n",
              "    background-color: var(--disabled-bg-color);\n",
              "    fill: var(--disabled-fill-color);\n",
              "    box-shadow: none;\n",
              "  }\n",
              "\n",
              "  .colab-df-spinner {\n",
              "    border: 2px solid var(--fill-color);\n",
              "    border-color: transparent;\n",
              "    border-bottom-color: var(--fill-color);\n",
              "    animation:\n",
              "      spin 1s steps(1) infinite;\n",
              "  }\n",
              "\n",
              "  @keyframes spin {\n",
              "    0% {\n",
              "      border-color: transparent;\n",
              "      border-bottom-color: var(--fill-color);\n",
              "      border-left-color: var(--fill-color);\n",
              "    }\n",
              "    20% {\n",
              "      border-color: transparent;\n",
              "      border-left-color: var(--fill-color);\n",
              "      border-top-color: var(--fill-color);\n",
              "    }\n",
              "    30% {\n",
              "      border-color: transparent;\n",
              "      border-left-color: var(--fill-color);\n",
              "      border-top-color: var(--fill-color);\n",
              "      border-right-color: var(--fill-color);\n",
              "    }\n",
              "    40% {\n",
              "      border-color: transparent;\n",
              "      border-right-color: var(--fill-color);\n",
              "      border-top-color: var(--fill-color);\n",
              "    }\n",
              "    60% {\n",
              "      border-color: transparent;\n",
              "      border-right-color: var(--fill-color);\n",
              "    }\n",
              "    80% {\n",
              "      border-color: transparent;\n",
              "      border-right-color: var(--fill-color);\n",
              "      border-bottom-color: var(--fill-color);\n",
              "    }\n",
              "    90% {\n",
              "      border-color: transparent;\n",
              "      border-bottom-color: var(--fill-color);\n",
              "    }\n",
              "  }\n",
              "</style>\n",
              "\n",
              "      <script>\n",
              "        async function quickchart(key) {\n",
              "          const quickchartButtonEl =\n",
              "            document.querySelector('#' + key + ' button');\n",
              "          quickchartButtonEl.disabled = true;  // To prevent multiple clicks.\n",
              "          quickchartButtonEl.classList.add('colab-df-spinner');\n",
              "          try {\n",
              "            const charts = await google.colab.kernel.invokeFunction(\n",
              "                'suggestCharts', [key], {});\n",
              "          } catch (error) {\n",
              "            console.error('Error during call to suggestCharts:', error);\n",
              "          }\n",
              "          quickchartButtonEl.classList.remove('colab-df-spinner');\n",
              "          quickchartButtonEl.classList.add('colab-df-quickchart-complete');\n",
              "        }\n",
              "        (() => {\n",
              "          let quickchartButtonEl =\n",
              "            document.querySelector('#df-668021bc-d08b-4e52-b8b1-9b3cb8dbe6d4 button');\n",
              "          quickchartButtonEl.style.display =\n",
              "            google.colab.kernel.accessAllowed ? 'block' : 'none';\n",
              "        })();\n",
              "      </script>\n",
              "    </div>\n",
              "\n",
              "    </div>\n",
              "  </div>\n"
            ],
            "application/vnd.google.colaboratory.intrinsic+json": {
              "type": "dataframe",
              "variable_name": "df",
              "summary": "{\n  \"name\": \"df\",\n  \"rows\": 8523,\n  \"fields\": [\n    {\n      \"column\": \"Item_Identifier\",\n      \"properties\": {\n        \"dtype\": \"category\",\n        \"num_unique_values\": 1559,\n        \"samples\": [\n          \"FDY01\",\n          \"FDG05\",\n          \"NCJ29\"\n        ],\n        \"semantic_type\": \"\",\n        \"description\": \"\"\n      }\n    },\n    {\n      \"column\": \"Item_Weight\",\n      \"properties\": {\n        \"dtype\": \"number\",\n        \"std\": 4.643456499186395,\n        \"min\": 4.555,\n        \"max\": 21.35,\n        \"num_unique_values\": 415,\n        \"samples\": [\n          16.75,\n          8.695,\n          7.605\n        ],\n        \"semantic_type\": \"\",\n        \"description\": \"\"\n      }\n    },\n    {\n      \"column\": \"Item_Fat_Content\",\n      \"properties\": {\n        \"dtype\": \"category\",\n        \"num_unique_values\": 5,\n        \"samples\": [\n          \"Regular\",\n          \"reg\",\n          \"low fat\"\n        ],\n        \"semantic_type\": \"\",\n        \"description\": \"\"\n      }\n    },\n    {\n      \"column\": \"Item_Visibility\",\n      \"properties\": {\n        \"dtype\": \"number\",\n        \"std\": 0.051597822321135196,\n        \"min\": 0.0,\n        \"max\": 0.328390948,\n        \"num_unique_values\": 7880,\n        \"samples\": [\n          0.224837308,\n          0.046088273,\n          0.0204702\n        ],\n        \"semantic_type\": \"\",\n        \"description\": \"\"\n      }\n    },\n    {\n      \"column\": \"Item_Type\",\n      \"properties\": {\n        \"dtype\": \"category\",\n        \"num_unique_values\": 16,\n        \"samples\": [\n          \"Dairy\",\n          \"Soft Drinks\",\n          \"Baking Goods\"\n        ],\n        \"semantic_type\": \"\",\n        \"description\": \"\"\n      }\n    },\n    {\n      \"column\": \"Item_MRP\",\n      \"properties\": {\n        \"dtype\": \"number\",\n        \"std\": 62.27506651219039,\n        \"min\": 31.29,\n        \"max\": 266.8884,\n        \"num_unique_values\": 5938,\n        \"samples\": [\n          255.9672,\n          93.512,\n          208.3954\n        ],\n        \"semantic_type\": \"\",\n        \"description\": \"\"\n      }\n    },\n    {\n      \"column\": \"Outlet_Identifier\",\n      \"properties\": {\n        \"dtype\": \"category\",\n        \"num_unique_values\": 10,\n        \"samples\": [\n          \"OUT035\",\n          \"OUT018\",\n          \"OUT045\"\n        ],\n        \"semantic_type\": \"\",\n        \"description\": \"\"\n      }\n    },\n    {\n      \"column\": \"Outlet_Establishment_Year\",\n      \"properties\": {\n        \"dtype\": \"number\",\n        \"std\": 8,\n        \"min\": 1985,\n        \"max\": 2009,\n        \"num_unique_values\": 9,\n        \"samples\": [\n          1997,\n          2009,\n          2002\n        ],\n        \"semantic_type\": \"\",\n        \"description\": \"\"\n      }\n    },\n    {\n      \"column\": \"Outlet_Size\",\n      \"properties\": {\n        \"dtype\": \"category\",\n        \"num_unique_values\": 3,\n        \"samples\": [\n          \"Medium\",\n          \"High\",\n          \"Small\"\n        ],\n        \"semantic_type\": \"\",\n        \"description\": \"\"\n      }\n    },\n    {\n      \"column\": \"Outlet_Location_Type\",\n      \"properties\": {\n        \"dtype\": \"category\",\n        \"num_unique_values\": 3,\n        \"samples\": [\n          \"Tier 1\",\n          \"Tier 3\",\n          \"Tier 2\"\n        ],\n        \"semantic_type\": \"\",\n        \"description\": \"\"\n      }\n    },\n    {\n      \"column\": \"Outlet_Type\",\n      \"properties\": {\n        \"dtype\": \"category\",\n        \"num_unique_values\": 4,\n        \"samples\": [\n          \"Supermarket Type2\",\n          \"Supermarket Type3\",\n          \"Supermarket Type1\"\n        ],\n        \"semantic_type\": \"\",\n        \"description\": \"\"\n      }\n    },\n    {\n      \"column\": \"Item_Outlet_Sales\",\n      \"properties\": {\n        \"dtype\": \"number\",\n        \"std\": 1706.499615733832,\n        \"min\": 33.29,\n        \"max\": 13086.9648,\n        \"num_unique_values\": 3493,\n        \"samples\": [\n          5466.8838,\n          8417.7094,\n          5888.3352\n        ],\n        \"semantic_type\": \"\",\n        \"description\": \"\"\n      }\n    }\n  ]\n}"
            }
          },
          "metadata": {},
          "execution_count": 64
        }
      ],
      "source": [
        "import numpy as np\n",
        "import pandas as pd\n",
        "\n",
        "# Cargar el dataset\n",
        "df = pd.read_csv(\"market.csv\")\n",
        "\n",
        "# Visualizar primeras filas\n",
        "df.head()"
      ]
    },
    {
      "cell_type": "markdown",
      "id": "2743e557",
      "metadata": {
        "id": "2743e557"
      },
      "source": [
        "## 🔢 Conversión a arrays NumPy"
      ]
    },
    {
      "cell_type": "code",
      "execution_count": 65,
      "id": "ae3b700a",
      "metadata": {
        "colab": {
          "base_uri": "https://localhost:8080/"
        },
        "id": "ae3b700a",
        "outputId": "51c35b6b-060b-4eb5-eb35-20c3115860e3"
      },
      "outputs": [
        {
          "output_type": "stream",
          "name": "stdout",
          "text": [
            "Pesos: (8523,) float64\n",
            "Ventas: (8523,) float64\n"
          ]
        }
      ],
      "source": [
        "# Convertir columnas numéricas a arrays\n",
        "pesos = df[\"Item_Weight\"].to_numpy()\n",
        "ventas = df[\"Item_Outlet_Sales\"].to_numpy()\n",
        "precios = df[\"Item_MRP\"].to_numpy()\n",
        "visibilidad = df[\"Item_Visibility\"].to_numpy()\n",
        "\n",
        "# Mostrar dimensiones y tipos\n",
        "print(\"Pesos:\", pesos.shape, pesos.dtype)\n",
        "print(\"Ventas:\", ventas.shape, ventas.dtype)"
      ]
    },
    {
      "cell_type": "markdown",
      "id": "553cccab",
      "metadata": {
        "id": "553cccab"
      },
      "source": [
        "## 📈 Estadísticas básicas con NumPy"
      ]
    },
    {
      "cell_type": "code",
      "execution_count": 66,
      "id": "cfc9e0d5",
      "metadata": {
        "colab": {
          "base_uri": "https://localhost:8080/"
        },
        "id": "cfc9e0d5",
        "outputId": "b7795176-9ed2-4a4d-96a3-d971f8755069"
      },
      "outputs": [
        {
          "output_type": "stream",
          "name": "stdout",
          "text": [
            "Peso promedio: 12.857645184135976\n",
            "Desvío estándar de ventas: 1706.3995013565955\n",
            "Precio máximo: 266.8884\n",
            "Visibilidad mínima: 0.0\n"
          ]
        }
      ],
      "source": [
        "print(\"Peso promedio:\", np.nanmean(pesos))\n",
        "print(\"Desvío estándar de ventas:\", np.std(ventas))\n",
        "print(\"Precio máximo:\", np.max(precios))\n",
        "print(\"Visibilidad mínima:\", np.min(visibilidad))"
      ]
    },
    {
      "cell_type": "markdown",
      "id": "02c1da31",
      "metadata": {
        "id": "02c1da31"
      },
      "source": [
        "## 🔍 Filtrado de datos con condiciones"
      ]
    },
    {
      "cell_type": "code",
      "execution_count": 67,
      "id": "d42c0620",
      "metadata": {
        "colab": {
          "base_uri": "https://localhost:8080/"
        },
        "id": "d42c0620",
        "outputId": "9c42c0dc-585b-4ab5-ca91-08e5bf939ad8"
      },
      "outputs": [
        {
          "output_type": "stream",
          "name": "stdout",
          "text": [
            "Productos con peso > 15kg: 2613\n",
            "Ventas por encima del promedio: 3523\n"
          ]
        }
      ],
      "source": [
        "# Productos con peso mayor a 15 kg\n",
        "pesados = pesos[pesos > 15]\n",
        "print(\"Productos con peso > 15kg:\", pesados.shape[0])\n",
        "\n",
        "# Ventas mayores a la media\n",
        "media_ventas = np.mean(ventas)\n",
        "ventas_altas = ventas[ventas > media_ventas]\n",
        "print(\"Ventas por encima del promedio:\", ventas_altas.shape[0])"
      ]
    },
    {
      "cell_type": "markdown",
      "id": "13c352df",
      "metadata": {
        "id": "13c352df"
      },
      "source": [
        "## ⚙️ Operaciones vectorizadas"
      ]
    },
    {
      "cell_type": "code",
      "execution_count": 68,
      "id": "21350c35",
      "metadata": {
        "colab": {
          "base_uri": "https://localhost:8080/"
        },
        "id": "21350c35",
        "outputId": "9b1efdc1-109b-42be-b84c-aeb046865822"
      },
      "outputs": [
        {
          "output_type": "stream",
          "name": "stdout",
          "text": [
            "Precio por kilo (primeros 5): [26.8612043   8.15358108  8.09245714  9.48411458  6.03151176]\n"
          ]
        }
      ],
      "source": [
        "# Precio por kilo estimado\n",
        "precio_x_kg = precios / pesos\n",
        "print(\"Precio por kilo (primeros 5):\", precio_x_kg[:5])"
      ]
    },
    {
      "cell_type": "markdown",
      "id": "d5f88037",
      "metadata": {
        "id": "d5f88037"
      },
      "source": [
        "## ➕ Álgebra matricial con NumPy"
      ]
    },
    {
      "cell_type": "code",
      "execution_count": 69,
      "id": "0386797b",
      "metadata": {
        "colab": {
          "base_uri": "https://localhost:8080/"
        },
        "id": "0386797b",
        "outputId": "50561ccf-9c02-46d7-e715-475993e62f9a"
      },
      "outputs": [
        {
          "output_type": "execute_result",
          "data": {
            "text/plain": [
              "array([[2.33314993e+06, 3.57611804e+07],\n",
              "       [3.57611804e+07, 6.98390172e+08]])"
            ]
          },
          "metadata": {},
          "execution_count": 69
        }
      ],
      "source": [
        "# Crear matriz de dos variables\n",
        "matriz = np.vstack((precios[:100], ventas[:100]))  # 2x100\n",
        "matriz_t = matriz.T  # 100x2\n",
        "\n",
        "# Producto matricial (covarianza básica)\n",
        "producto = matriz @ matriz_t  # 2x2\n",
        "producto"
      ]
    },
    {
      "cell_type": "markdown",
      "id": "f89a68e0",
      "metadata": {
        "id": "f89a68e0"
      },
      "source": [
        "## 🧠 Desafíos propuestos\n",
        "\n",
        "1. Calcular la mediana del peso de los productos usando NumPy.\n",
        "2. ¿Cuál es el valor más frecuente (moda) de `Item_Weight`?\n",
        "3. Filtrar los productos que tengan un precio mayor a $250 y visibilidad menor al 0.02.\n",
        "4. Crear un array que contenga la diferencia entre el precio y las ventas para los primeros 500 productos.\n",
        "5. Normalizar los valores de visibilidad entre 0 y 1.\n",
        "6. Crear una matriz de 3 columnas: peso, precio y ventas, y calcular su media por columna.\n",
        "7. ¿Qué productos tienen un valor de peso faltante (`NaN`)? ¿Cuántos hay?\n",
        "8. Simular 100 precios aleatorios con `np.random.normal()` con media 200 y desvío 30.\n",
        "9. Calcular la correlación entre precios y ventas (usando `np.corrcoef`).\n",
        "10. Guardar un nuevo array con los precios redondeados a 2 decimales.\n",
        "\n",
        "💡 Tip: ¡Usá funciones como `np.isnan`, `np.round`, `np.corrcoef`, `np.nanmean`, `np.unique`!\n"
      ]
    },
    {
      "cell_type": "code",
      "source": [
        "df.info()"
      ],
      "metadata": {
        "colab": {
          "base_uri": "https://localhost:8080/"
        },
        "id": "558M3jFbl1iQ",
        "outputId": "33a24ed1-c565-455f-9bf3-8c40e6557557"
      },
      "id": "558M3jFbl1iQ",
      "execution_count": 70,
      "outputs": [
        {
          "output_type": "stream",
          "name": "stdout",
          "text": [
            "<class 'pandas.core.frame.DataFrame'>\n",
            "RangeIndex: 8523 entries, 0 to 8522\n",
            "Data columns (total 12 columns):\n",
            " #   Column                     Non-Null Count  Dtype  \n",
            "---  ------                     --------------  -----  \n",
            " 0   Item_Identifier            8523 non-null   object \n",
            " 1   Item_Weight                7060 non-null   float64\n",
            " 2   Item_Fat_Content           8523 non-null   object \n",
            " 3   Item_Visibility            8523 non-null   float64\n",
            " 4   Item_Type                  8523 non-null   object \n",
            " 5   Item_MRP                   8523 non-null   float64\n",
            " 6   Outlet_Identifier          8523 non-null   object \n",
            " 7   Outlet_Establishment_Year  8523 non-null   int64  \n",
            " 8   Outlet_Size                6113 non-null   object \n",
            " 9   Outlet_Location_Type       8523 non-null   object \n",
            " 10  Outlet_Type                8523 non-null   object \n",
            " 11  Item_Outlet_Sales          8523 non-null   float64\n",
            "dtypes: float64(4), int64(1), object(7)\n",
            "memory usage: 799.2+ KB\n"
          ]
        }
      ]
    },
    {
      "cell_type": "code",
      "source": [
        "weights = df['Item_Weight'].dropna();"
      ],
      "metadata": {
        "id": "jmO9Dd07QMvE"
      },
      "id": "jmO9Dd07QMvE",
      "execution_count": 71,
      "outputs": []
    },
    {
      "cell_type": "markdown",
      "source": [
        "1. Calcular la mediana del peso de los productos usando NumPy."
      ],
      "metadata": {
        "id": "LkHHgxj5mK95"
      },
      "id": "LkHHgxj5mK95"
    },
    {
      "cell_type": "code",
      "source": [
        "# Calcular la mediana usando NumPy\n",
        "median_weight = np.median(weights)\n",
        "\n",
        "print(f\"La mediana del peso de los productos es: {median_weight}\")"
      ],
      "metadata": {
        "colab": {
          "base_uri": "https://localhost:8080/"
        },
        "id": "7I32ySrkmOyW",
        "outputId": "89ccbd90-e5d0-46c1-b5ed-10d83c3093d8"
      },
      "id": "7I32ySrkmOyW",
      "execution_count": 72,
      "outputs": [
        {
          "output_type": "stream",
          "name": "stdout",
          "text": [
            "La mediana del peso de los productos es: 12.6\n"
          ]
        }
      ]
    },
    {
      "cell_type": "markdown",
      "source": [
        "2. ¿Cuál es el valor más frecuente (moda) de Item_Weight?"
      ],
      "metadata": {
        "id": "_Aa8dOSfmZlX"
      },
      "id": "_Aa8dOSfmZlX"
    },
    {
      "cell_type": "code",
      "source": [
        "# Calcular frecuencias de valores únicos\n",
        "unique_values, counts = np.unique(weights, return_counts=True)\n",
        "\n",
        "# Encontrar la moda (valor con mayor frecuencia)\n",
        "moda = unique_values[np.argmax(counts)]\n",
        "\n",
        "print(f\"La moda de 'Item_Weight' es: {moda}\")"
      ],
      "metadata": {
        "colab": {
          "base_uri": "https://localhost:8080/"
        },
        "id": "ijlaTE9Uq3i1",
        "outputId": "44dc9f27-0b98-4f9e-8538-84425b1cf9d9"
      },
      "id": "ijlaTE9Uq3i1",
      "execution_count": 73,
      "outputs": [
        {
          "output_type": "stream",
          "name": "stdout",
          "text": [
            "La moda de 'Item_Weight' es: 12.15\n"
          ]
        }
      ]
    },
    {
      "cell_type": "markdown",
      "source": [
        "3. Filtrar los productos que tengan un precio mayor a $250 y visibilidad menor al 0.02."
      ],
      "metadata": {
        "id": "WWNCLfHurfh5"
      },
      "id": "WWNCLfHurfh5"
    },
    {
      "cell_type": "code",
      "source": [
        "product_filtered = df[(df['Item_MRP'] > 250) & (df['Item_Visibility'] < 0.02)]\n",
        "\n",
        "# Mostrar los resultados\n",
        "print(product_filtered[['Item_Identifier', 'Item_MRP', 'Item_Visibility']])"
      ],
      "metadata": {
        "colab": {
          "base_uri": "https://localhost:8080/"
        },
        "id": "lhanq4IKrigx",
        "outputId": "2b0f9e99-d111-41c5-b733-852b11ee0bfd"
      },
      "id": "lhanq4IKrigx",
      "execution_count": 74,
      "outputs": [
        {
          "output_type": "stream",
          "name": "stdout",
          "text": [
            "     Item_Identifier  Item_MRP  Item_Visibility\n",
            "32             FDP33  256.6672         0.000000\n",
            "212            FDL58  263.7568         0.000000\n",
            "273            FDK51  264.0884         0.005234\n",
            "278            FDK21  250.4408         0.016759\n",
            "423            FDA27  256.7672         0.000000\n",
            "664            FDD29  253.1698         0.018486\n",
            "741            FDY02  264.7910         0.000000\n",
            "831            FDA15  250.2092         0.016055\n",
            "1049           FDF04  256.4304         0.013634\n",
            "1326           FDF04  258.3304         0.000000\n",
            "1450           FDZ20  253.0356         0.000000\n",
            "1463           DRF37  263.5910         0.000000\n",
            "1902           FDD29  255.3698         0.018321\n",
            "2007           FDS13  263.1884         0.000000\n",
            "2192           FDY45  253.0356         0.000000\n",
            "2331           FDT07  256.6330         0.000000\n",
            "2523           FDK21  250.7408         0.010004\n",
            "2861           FDK40  262.6910         0.000000\n",
            "3052           FDI15  263.7884         0.000000\n",
            "3416           FDK51  266.1884         0.005243\n",
            "3496           FDF39  261.5910         0.019591\n",
            "3863           NCZ18  253.4698         0.000000\n",
            "3890           NCQ29  262.3278         0.000000\n",
            "3893           FDF04  256.3304         0.013658\n",
            "3906           FDO20  252.3382         0.000000\n",
            "3977           FDD11  253.0040         0.000000\n",
            "4144           FDK51  265.1884         0.005231\n",
            "4159           FDK51  266.6884         0.008763\n",
            "4195           FDK51  265.8884         0.005235\n",
            "4306           FDD44  257.5646         0.000000\n",
            "4346           FDY55  255.7988         0.000000\n",
            "4347           FDK40  263.2910         0.000000\n",
            "4763           FDF39  263.7910         0.019551\n",
            "4824           FDF04  257.7304         0.013665\n",
            "4888           FDF39  261.2910         0.019495\n",
            "4962           FDD29  254.7698         0.018407\n",
            "5413           FDA15  250.6092         0.016009\n",
            "5434           FDP15  256.0330         0.000000\n",
            "5668           FDD11  254.7040         0.000000\n",
            "5677           FDD29  251.6698         0.018395\n",
            "5859           FDK51  265.2884         0.005210\n",
            "6155           FDF39  262.5910         0.019511\n",
            "6341           FDY55  258.3988         0.000000\n",
            "6506           FDD29  252.7698         0.018515\n",
            "6659           FDK21  250.4408         0.010012\n",
            "6683           FDD29  252.1698         0.018411\n",
            "6722           FDT37  253.7014         0.000000\n",
            "6787           FDY55  255.3988         0.000000\n",
            "6912           FDN03  250.1408         0.015087\n",
            "6982           FDD29  254.7698         0.018439\n",
            "7026           NCL55  254.9040         0.000000\n",
            "7039           NCW30  257.8962         0.011072\n",
            "7203           FDF04  259.7304         0.013693\n",
            "7438           FDO09  262.8910         0.000000\n",
            "7478           DRF37  261.2910         0.000000\n",
            "7635           NCW30  259.5962         0.011008\n",
            "7788           FDK51  264.5884         0.005265\n",
            "8087           FDF04  258.5304         0.013637\n",
            "8342           FDF04  259.2304         0.013714\n",
            "8410           NCS06  263.6910         0.000000\n"
          ]
        }
      ]
    },
    {
      "cell_type": "markdown",
      "source": [
        "4. Crear un array que contenga la diferencia entre el precio y las ventas para los primeros 500 productos."
      ],
      "metadata": {
        "id": "Ta5ZXes9r3m5"
      },
      "id": "Ta5ZXes9r3m5"
    },
    {
      "cell_type": "code",
      "source": [
        "# Obtener los primeros 500 productos\n",
        "first_500 = df.head(500)\n",
        "\n",
        "# Calcular la diferencia entre Item_MRP y Item_Outlet_Sales para los primeros 500 productos\n",
        "differences = np.array(first_500['Item_MRP'] - first_500['Item_Outlet_Sales'])\n",
        "\n",
        "# Mostrar las primeras 10 diferencias como ejemplo\n",
        "print(\"Primeras 10 diferencias:\")\n",
        "print(differences[:10])"
      ],
      "metadata": {
        "colab": {
          "base_uri": "https://localhost:8080/"
        },
        "id": "d4iatoIbtY2_",
        "outputId": "0729fda0-37ec-4d0e-a536-fec4865af939"
      },
      "id": "d4iatoIbtY2_",
      "execution_count": 75,
      "outputs": [
        {
          "output_type": "stream",
          "name": "stdout",
          "text": [
            "Primeras 10 diferencias:\n",
            "[-3485.3288  -395.1536 -1955.652   -550.285   -940.8438  -505.208\n",
            "  -285.894  -3915.0014  -979.626  -4522.7136]\n"
          ]
        }
      ]
    },
    {
      "cell_type": "markdown",
      "source": [
        "5. Normalizar los valores de visibilidad entre 0 y 1."
      ],
      "metadata": {
        "id": "6BcK-t5Wu8xP"
      },
      "id": "6BcK-t5Wu8xP"
    },
    {
      "cell_type": "code",
      "source": [
        "# Normalizar la columna Item_Visibility entre 0 y 1\n",
        "# Se aplica la formula de normalizacion x_normalizado = (x - x_min) / (x_max - x_min)\n",
        "\n",
        "min_visibility = df['Item_Visibility'].min()\n",
        "max_visibility = df['Item_Visibility'].max()\n",
        "\n",
        "\n",
        "df['Item_Visibility_Normalized'] = (df['Item_Visibility'] - min_visibility) / (max_visibility - min_visibility)\n",
        "\n",
        "# Mostrar las primeras filas para verificar\n",
        "print(df[['Item_Visibility', 'Item_Visibility_Normalized']].head())"
      ],
      "metadata": {
        "colab": {
          "base_uri": "https://localhost:8080/"
        },
        "id": "VPR9aMWBvTTl",
        "outputId": "fa741e94-e23f-4d64-e503-b422b62212d5"
      },
      "id": "VPR9aMWBvTTl",
      "execution_count": 76,
      "outputs": [
        {
          "output_type": "stream",
          "name": "stdout",
          "text": [
            "   Item_Visibility  Item_Visibility_Normalized\n",
            "0         0.016047                    0.048866\n",
            "1         0.019278                    0.058705\n",
            "2         0.016760                    0.051037\n",
            "3         0.000000                    0.000000\n",
            "4         0.000000                    0.000000\n"
          ]
        }
      ]
    },
    {
      "cell_type": "markdown",
      "source": [
        "6. Crear una matriz de 3 columnas: peso, precio y ventas, y calcular su media por columna."
      ],
      "metadata": {
        "id": "vLq9iaXdwe8m"
      },
      "id": "vLq9iaXdwe8m"
    },
    {
      "cell_type": "code",
      "source": [
        "# Crear la matriz con las 3 columnas solicitadas\n",
        "matriz = df[['Item_Weight', 'Item_MRP', 'Item_Outlet_Sales']].values\n",
        "\n",
        "# Calcular las medias por columna usando numpy\n",
        "medias_numpy = np.mean(matriz, axis=0)\n",
        "\n",
        "print(\"Matriz de 3 columnas (peso, precio, ventas):\")\n",
        "print(matriz[:5])  # Mostrando solo las primeras 5 filas como ejemplo\n",
        "\n",
        "print(\"\\nMedias:\")\n",
        "print(f\"Peso: {medias_numpy[0]:.2f}\")\n",
        "print(f\"Precio: {medias_numpy[1]:.2f}\")\n",
        "print(f\"Ventas: {medias_numpy[2]:.2f}\")"
      ],
      "metadata": {
        "colab": {
          "base_uri": "https://localhost:8080/"
        },
        "id": "uKQ8ExoswjAl",
        "outputId": "71ecd9be-a2b2-4c00-d71c-51d800186266"
      },
      "id": "uKQ8ExoswjAl",
      "execution_count": 77,
      "outputs": [
        {
          "output_type": "stream",
          "name": "stdout",
          "text": [
            "Matriz de 3 columnas (peso, precio, ventas):\n",
            "[[   9.3     249.8092 3735.138 ]\n",
            " [   5.92     48.2692  443.4228]\n",
            " [  17.5     141.618  2097.27  ]\n",
            " [  19.2     182.095   732.38  ]\n",
            " [   8.93     53.8614  994.7052]]\n",
            "\n",
            "Medias:\n",
            "Peso: nan\n",
            "Precio: 140.99\n",
            "Ventas: 2181.29\n"
          ]
        }
      ]
    },
    {
      "cell_type": "markdown",
      "source": [
        "7. ¿Qué productos tienen un valor de peso faltante (NaN)? ¿Cuántos hay?"
      ],
      "metadata": {
        "id": "oqxNbyx9xvOr"
      },
      "id": "oqxNbyx9xvOr"
    },
    {
      "cell_type": "code",
      "source": [
        "# Identificar productos con peso faltante\n",
        "# Filtra filas donde 'Item_Weight' es NaN.\n",
        "missing_weight = df[df['Item_Weight'].isna()]\n",
        "\n",
        "# Contar cuántos hay\n",
        "# Se obtiene la cantidad de filas\n",
        "num_missing = missing_weight.shape[0]\n",
        "\n",
        "# Mostrar los identificadores de productos con peso faltante\n",
        "missing_identifiers = missing_weight['Item_Identifier']\n",
        "\n",
        "print(f\"Número de productos con peso faltante: {num_missing}\")\n",
        "print(\"Identificadores de productos con peso faltante:\")\n",
        "print(missing_identifiers)"
      ],
      "metadata": {
        "colab": {
          "base_uri": "https://localhost:8080/"
        },
        "id": "XVbbUoAnx0Lz",
        "outputId": "cea96aeb-728a-4983-89e3-2b8553637746"
      },
      "id": "XVbbUoAnx0Lz",
      "execution_count": 78,
      "outputs": [
        {
          "output_type": "stream",
          "name": "stdout",
          "text": [
            "Número de productos con peso faltante: 1463\n",
            "Identificadores de productos con peso faltante:\n",
            "7       FDP10\n",
            "18      DRI11\n",
            "21      FDW12\n",
            "23      FDC37\n",
            "29      FDC14\n",
            "        ...  \n",
            "8485    DRK37\n",
            "8487    DRG13\n",
            "8488    NCN14\n",
            "8490    FDU44\n",
            "8504    NCN18\n",
            "Name: Item_Identifier, Length: 1463, dtype: object\n"
          ]
        }
      ]
    },
    {
      "cell_type": "markdown",
      "source": [
        "8. Simular 100 precios aleatorios con np.random.normal() con media 200 y desvío 30."
      ],
      "metadata": {
        "id": "CQT-Dn7fUq5A"
      },
      "id": "CQT-Dn7fUq5A"
    },
    {
      "cell_type": "code",
      "source": [
        "#loc: Es la media de la distribución normal.\n",
        "#scale: Es el desvío estándar de la distribución.\n",
        "#size: Genera un array de 100 valores aleatorios.\n",
        "precios = np.random.normal(loc=200, scale=30, size=100)\n",
        "\n",
        "print(precios)"
      ],
      "metadata": {
        "colab": {
          "base_uri": "https://localhost:8080/"
        },
        "id": "RPPBaf4MUw-n",
        "outputId": "91fe34a4-70d2-427e-d956-2228c1741c8e"
      },
      "id": "RPPBaf4MUw-n",
      "execution_count": 79,
      "outputs": [
        {
          "output_type": "stream",
          "name": "stdout",
          "text": [
            "[243.12858112 204.99543987 133.8026417  209.72777678 209.09510597\n",
            " 174.7990017  168.09498666 184.23127492 208.0435762  179.93536604\n",
            " 194.91459632 213.67835972 218.5728151  169.54313236 172.58387739\n",
            " 176.69952226 184.55957362 215.45790997 198.49363883 232.78016425\n",
            " 154.1928023  196.96560507 169.27784356 214.11292004 214.46593587\n",
            " 213.91461736 250.74293025 171.59204705 170.98446365 194.35595256\n",
            " 213.17184019 207.09896884 129.1847096  154.79675958 129.53042762\n",
            " 210.83336672 251.90692788 222.48924991 140.05961889 221.05896958\n",
            " 254.38183734 193.04526698 217.14302608 186.98526018 163.3397202\n",
            " 174.84759526 263.88827846 191.39225411 222.81548446 261.73867835\n",
            " 113.320091   200.22828055 205.11331321 137.14163847 229.48853072\n",
            " 177.79448116 201.14427644 223.50061616 234.81627809 183.89184164\n",
            " 201.59851492 210.11086499 186.02863945 194.61500596 197.22316679\n",
            " 175.85994053 155.27459628 187.78707295 262.4150587  196.93318506\n",
            " 202.56467747 176.92837535 199.07666218 143.80232824 145.04066928\n",
            " 224.7251981  216.61850754 228.36414814 189.9805522  180.07921287\n",
            " 212.97484188 203.83013072 204.7682064  261.67998985 176.53236281\n",
            " 218.07137827 191.40721291 202.9037637  181.88346764 197.62326602\n",
            " 173.17463196 171.14961781 193.92396849 224.79359173 251.47012306\n",
            " 235.5301744  197.45078516 212.50537563 273.53665807 210.72523099]\n"
          ]
        }
      ]
    },
    {
      "cell_type": "markdown",
      "source": [
        "9. Calcular la correlación entre precios y ventas (usando np.corrcoef)."
      ],
      "metadata": {
        "id": "ZzbxpwJSVKDi"
      },
      "id": "ZzbxpwJSVKDi"
    },
    {
      "cell_type": "code",
      "source": [
        "# Extraer las columnas de interés\n",
        "prices = df['Item_MRP']\n",
        "sales = df['Item_Outlet_Sales']\n",
        "\n",
        "# Calcular la matriz de correlación\n",
        "correlation_matrix = np.corrcoef(prices, sales)\n",
        "\n",
        "# El coeficiente de correlación entre precios y ventas\n",
        "correlation = correlation_matrix[0, 1]\n",
        "\n",
        "print(f\"La correlación entre precios y ventas es: {correlation:.4f}\")"
      ],
      "metadata": {
        "colab": {
          "base_uri": "https://localhost:8080/"
        },
        "id": "mUgceTdUVhr6",
        "outputId": "1895f1b0-4486-4979-96b1-9ca4e458b4bc"
      },
      "id": "mUgceTdUVhr6",
      "execution_count": 80,
      "outputs": [
        {
          "output_type": "stream",
          "name": "stdout",
          "text": [
            "La correlación entre precios y ventas es: 0.5676\n"
          ]
        }
      ]
    },
    {
      "cell_type": "markdown",
      "source": [
        "10. Guardar un nuevo array con los precios redondeados a 2 decimales."
      ],
      "metadata": {
        "id": "F16Za_CwXiBt"
      },
      "id": "F16Za_CwXiBt"
    },
    {
      "cell_type": "code",
      "source": [
        "# Obtener la columna Item_MRP y redondear a 2 decimales\n",
        "precios_redondeados = np.round(df['Item_MRP'].values, 2)\n",
        "\n",
        "# Mostrar el array resultante\n",
        "print(precios_redondeados)"
      ],
      "metadata": {
        "colab": {
          "base_uri": "https://localhost:8080/"
        },
        "id": "FIRUFeqkXkek",
        "outputId": "0a83ef35-b0bc-49eb-ebfc-694d3e4014c4"
      },
      "id": "FIRUFeqkXkek",
      "execution_count": 81,
      "outputs": [
        {
          "output_type": "stream",
          "name": "stdout",
          "text": [
            "[249.81  48.27 141.62 ...  85.12 103.13  75.47]\n"
          ]
        }
      ]
    }
  ],
  "metadata": {
    "colab": {
      "provenance": []
    },
    "language_info": {
      "name": "python"
    },
    "kernelspec": {
      "name": "python3",
      "display_name": "Python 3"
    }
  },
  "nbformat": 4,
  "nbformat_minor": 5
}